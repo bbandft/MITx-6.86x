{
 "cells": [
  {
   "cell_type": "markdown",
   "metadata": {},
   "source": [
    "# Machine Learning\n",
    "- 机器学习作为一门学科，旨在设计、理解和应用计算机程序时从经验(即数据)中学习，从而进行建模、预测和控制的过程 | Machine learning as a discipline aims to design, understand, and apply computer programs that learn from experience (i.e. data) for the purpose of modelling, prediction, and control. \n",
    "\n",
    "- 可以做出很多类型的预测 | There are many types of predictions that we can make.\n",
    "    - 预测未来发生的事件的结果，比如市场、明天的天气、用户将输入的下一个单词 | We can predict outcomes of events that occur in the future such as the market, weather tomorrow, the next word a text message user will type.\n",
    "    - 自动驾驶车辆中预测行人行为等 | anticipate pedestrian behavior in self driving vehicles, and so on.\n",
    "- 还可以尝试预测尚未揭示的性质 | Predict properties that we do not yet know. \n",
    "    - 材料的特性，比如化学物质是否可溶于水，图像中的物体是什么，英语句子在印度语中翻译成什么，一篇产品评论是否带有积极的情绪等 | For example, properties of materials such as whether a chemical is soluble in water, what the object is in an image, what an English sentence translates to in Hindi, whether a product review carries positive sentiment, and so on.\n"
   ]
  },
  {
   "cell_type": "markdown",
   "metadata": {},
   "source": [
    "# classification vs regression "
   ]
  },
  {
   "cell_type": "markdown",
   "metadata": {},
   "source": [
    "## 监督学习 | Supervised learning\n",
    "- 从给定的训练数据集中学习出一个函数（模型参数），当新的数据到来时可以根据这个函数预测结果（例如分类） | prediction based on examples of correct behavior; Labelled training and test examples"
   ]
  },
  {
   "cell_type": "markdown",
   "metadata": {},
   "source": [
    "## 无监督学习 | Unsupervised learning\n",
    "- 输入数据没有被标记，也没有确定的结果，直接对输入数据集进行建模，让学习器不依赖外界交互、自动地利用未标记样本来提升学习性能（例如聚类） | no explicit target, only data, goal to model/discover; Data with no annotation"
   ]
  },
  {
   "cell_type": "markdown",
   "metadata": {},
   "source": [
    "## 半监督学习 | Semi-supervised learning\n",
    "- 将监督学习和无监督学习相结合，综合利用有类标的数据和没有类标的数据，来生成合适的分类函数 | supplement limited annotations with unsupervised learning; Training and test examples with limited annotation"
   ]
  },
  {
   "cell_type": "markdown",
   "metadata": {},
   "source": [
    "## 主动学习 | Active learning\n",
    "- 真实的数据分析场景中，我们可以获取海量的数据，但是这些数据都是未标注数据，很多经典的分类算法并不能直接使用，通过学习器能够主动的提出一些标注请求，将一些经过筛选的数据交给专家进行标注 | learn to query the examples actually needed for learning; Deciding which examples are needed to learn"
   ]
  },
  {
   "cell_type": "markdown",
   "metadata": {},
   "source": [
    "## 转移学习 | Transfer learning\n",
    "- 随着越来越多的机器学习应用场景的出现，而现有表现比较好的监督学习需要大量的标注数据，标注数据是一项枯燥无味且花费巨大的任务，转移学习可以将某个领域或任务上学习到的知识或模式应用到不同但相关的领域或问题中 | how to apply what you have learned from A to B; Using knowledge from one task to solve another task"
   ]
  },
  {
   "cell_type": "markdown",
   "metadata": {},
   "source": [
    "## 强化学习 | Reinforcement learning\n",
    "- 强化学习采用的是边获得样例边学习的方式，在获得样例之后更新自己的模型，利用当前的模型来指导下一步的行动，下一步的行动获得reward之后再更新模型，不断迭代重复直到模型收敛 | learning to act, not just predict; goal to optimize the consequences of actions; Learning to navigate a robot"
   ]
  },
  {
   "cell_type": "code",
   "execution_count": null,
   "metadata": {},
   "outputs": [],
   "source": []
  }
 ],
 "metadata": {
  "kernelspec": {
   "display_name": "Python 3",
   "language": "python",
   "name": "python3"
  },
  "language_info": {
   "codemirror_mode": {
    "name": "ipython",
    "version": 3
   },
   "file_extension": ".py",
   "mimetype": "text/x-python",
   "name": "python",
   "nbconvert_exporter": "python",
   "pygments_lexer": "ipython3",
   "version": "3.7.6"
  },
  "toc": {
   "base_numbering": 1,
   "nav_menu": {},
   "number_sections": true,
   "sideBar": true,
   "skip_h1_title": false,
   "title_cell": "Table of Contents",
   "title_sidebar": "Contents",
   "toc_cell": false,
   "toc_position": {},
   "toc_section_display": true,
   "toc_window_display": false
  }
 },
 "nbformat": 4,
 "nbformat_minor": 4
}
